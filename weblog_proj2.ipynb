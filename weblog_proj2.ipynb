{
 "cells": [
  {
   "cell_type": "markdown",
   "metadata": {},
   "source": [
    "### Which browser made the most amount requests?"
   ]
  },
  {
   "cell_type": "code",
   "execution_count": null,
   "metadata": {
    "collapsed": true
   },
   "outputs": [],
   "source": [
    "import pandas as pd\n",
    "\n",
    "df = pd.read_csv('C:/Users/maxim/Documents/GitHub/IS362_Project2/weblog.csv',\n",
    "                 header=None, names=('request', 'date_time', 'user_agent', 'response', 'r_time'))"
   ]
  },
  {
   "cell_type": "markdown",
   "metadata": {},
   "source": [
    "I start by reading the csv and setting the column names. this file does not have a header row"
   ]
  },
  {
   "cell_type": "code",
   "execution_count": null,
   "metadata": {
    "collapsed": true
   },
   "outputs": [],
   "source": [
    "def browser_search(data):\n",
    "    s_2 = len(data[(data['user_agent'].str.contains(\"Safari\"))])\n",
    "    ie = len(data[data['user_agent'].str.contains(\"MSIE\")])\n",
    "    firefox = len(data[data['user_agent'].str.contains(\"Firefox\")])\n",
    "    lmax = max(s_2, ie, firefox)\n",
    "    if s_2 > ie and s_2 > firefox:\n",
    "        name = 'Safari'\n",
    "    elif ie > s_2 and ie > firefox:\n",
    "        name = 'Internet Explorer'\n",
    "    elif firefox > s_2 and firefox > ie:\n",
    "        name = 'Firefox'\n",
    "    return lmax, name"
   ]
  },
  {
   "cell_type": "markdown",
   "metadata": {},
   "source": [
    "I check how many times each browser made a request to the server. And perform analysis to determine the browser that produced the most requests."
   ]
  },
  {
   "cell_type": "code",
   "execution_count": 2,
   "metadata": {
    "collapsed": false
   },
   "outputs": [
    {
     "name": "stdout",
     "output_type": "stream",
     "text": [
      "The most popular browser is: Safari, with 5065 hits\n"
     ]
    }
   ],
   "source": [
    "count, name = browser_search(df)\n",
    "print('The most popular browser is: {}, with {} hits'.format(name, count))\n",
    "df.to_csv('C:/Users/maxim/Documents/GitHub/IS362_Project2/web_log_data.csv', header=True)"
   ]
  },
  {
   "cell_type": "markdown",
   "metadata": {
    "collapsed": true
   },
   "source": [
    "output to sceen, and to csv for downstream processing."
   ]
  },
  {
   "cell_type": "code",
   "execution_count": null,
   "metadata": {
    "collapsed": true
   },
   "outputs": [],
   "source": []
  }
 ],
 "metadata": {
  "anaconda-cloud": {},
  "kernelspec": {
   "display_name": "Python [default]",
   "language": "python",
   "name": "python3"
  },
  "language_info": {
   "codemirror_mode": {
    "name": "ipython",
    "version": 3
   },
   "file_extension": ".py",
   "mimetype": "text/x-python",
   "name": "python",
   "nbconvert_exporter": "python",
   "pygments_lexer": "ipython3",
   "version": "3.5.2"
  }
 },
 "nbformat": 4,
 "nbformat_minor": 1
}
